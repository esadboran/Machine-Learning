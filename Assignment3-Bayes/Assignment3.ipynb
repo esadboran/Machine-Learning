{
 "cells": [
  {
   "cell_type": "markdown",
   "id": "e9a11c3a-52cc-436c-b5dd-b7c71c306dc9",
   "metadata": {},
   "source": [
    "<!DOCTYPE html>\n",
    "<html>\n",
    "<head>\n",
    "<style>\n",
    "* {\n",
    "  box-sizing: border-box;\n",
    "}\n",
    "\n",
    ".row {\n",
    "  margin-left:-5px;\n",
    "  margin-right:-5px;\n",
    "}\n",
    "  \n",
    ".column {\n",
    "  float: left;\n",
    "  width: 50%;\n",
    "  padding: 5px;\n",
    "}\n",
    "\n",
    "/* Clearfix (clear floats) */\n",
    ".row::after {\n",
    "  content: \"\";\n",
    "  clear: both;\n",
    "  display: table;\n",
    "}\n",
    "\n",
    "table {\n",
    "  border-collapse: collapse;\n",
    "  border-spacing: 0;\n",
    "  width: 100%;\n",
    "  border: 1px solid #ddd;\n",
    "}\n",
    "\n",
    "th, td {\n",
    "  text-align: left;\n",
    "  padding: 16px;\n",
    "}\n",
    "\n",
    "tr:nth-child(even) {\n",
    "  background-color: #f2f2f2;\n",
    "}\n",
    "</style>\n",
    "</head>\n",
    "<body>\n",
    "\n",
    "<h2 style=\"text-align: center\" >BBM409 : Introduction to Machine Learning Lab.</h2>\n",
    "<h4 style=\"text-align: center\">Assignment 3 :  Naive Bayes Algorithm</h4>\n",
    "<br>\n",
    "<div class=\"row\">\n",
    "  <div class=\"column\">\n",
    "    <table>\n",
    "      <tr>\n",
    "        <th>First Name</th>\n",
    "        <th>Last Name</th>\n",
    "        <th>No</th>\n",
    "      </tr>\n",
    "      <tr>\n",
    "        <td>Esad </td>\n",
    "        <td>Boran</td>\n",
    "        <td>21827206</td>\n",
    "      </tr>\n",
    "      <tr>\n",
    "        <td>Evren</td>\n",
    "        <td>Çağılcı</td>\n",
    "        <td>21945977</td>\n",
    "      </tr>\n",
    "    </table>\n",
    "  </div>\n",
    "</div>\n",
    "\n",
    "</body>\n",
    "</html>"
   ]
  },
  {
   "cell_type": "markdown",
   "id": "8a5926fd",
   "metadata": {},
   "source": [
    "# Introduction"
   ]
  },
  {
   "cell_type": "markdown",
   "id": "e53f066d",
   "metadata": {},
   "source": [
    "In this assignment, our aim is to predict which of the 5 categories the given texts belongs to.\n",
    "\n",
    "To predict the categories, Naive Bayes Classifier will be used. We will generate 4 different models to make predictions. We will genarete unigram and bigram models with and without stop words.\n",
    "\n",
    "Unigram models deal with all words one by one, while bigram models deal with words in pairs.\n",
    "\n",
    "After building our models and predicting the categories, we will calculate the accuracy, precision, recall and F1 score ratios."
   ]
  },
  {
   "cell_type": "markdown",
   "id": "85fcc87f-990b-4cc0-a967-95d1661ff8e5",
   "metadata": {
    "tags": []
   },
   "source": [
    "# 1.Required Libraries"
   ]
  },
  {
   "cell_type": "markdown",
   "id": "acb07bc1",
   "metadata": {},
   "source": [
    "Here we are importing necessary libraries."
   ]
  },
  {
   "cell_type": "code",
   "execution_count": 1,
   "id": "b5ee5129-26e5-4ccb-a5ca-31c9021480ba",
   "metadata": {},
   "outputs": [],
   "source": [
    "import numpy as np\n",
    "import pandas as pd\n",
    "\n",
    "import nltk\n",
    "from nltk.corpus import stopwords\n",
    "from nltk.stem.porter import PorterStemmer \n",
    "\n",
    "import string\n",
    "\n",
    "from sklearn.model_selection import train_test_split\n",
    "from sklearn.metrics import accuracy_score, confusion_matrix, f1_score, recall_score,precision_score\n",
    "from sklearn.feature_extraction.text import CountVectorizer\n",
    "from sklearn.feature_extraction.text import TfidfTransformer"
   ]
  },
  {
   "cell_type": "markdown",
   "id": "9632f778-6b36-4697-a75d-28b07445b393",
   "metadata": {},
   "source": [
    "## Part I: Understanding the data"
   ]
  },
  {
   "cell_type": "markdown",
   "id": "5c67172f",
   "metadata": {},
   "source": [
    "We read the data with pandas library."
   ]
  },
  {
   "cell_type": "code",
   "execution_count": 9,
   "id": "cbc68ca9-e0c8-47c4-a2cf-1379a222448a",
   "metadata": {},
   "outputs": [
    {
     "data": {
      "text/html": [
       "<div>\n",
       "<style scoped>\n",
       "    .dataframe tbody tr th:only-of-type {\n",
       "        vertical-align: middle;\n",
       "    }\n",
       "\n",
       "    .dataframe tbody tr th {\n",
       "        vertical-align: top;\n",
       "    }\n",
       "\n",
       "    .dataframe thead th {\n",
       "        text-align: right;\n",
       "    }\n",
       "</style>\n",
       "<table border=\"1\" class=\"dataframe\">\n",
       "  <thead>\n",
       "    <tr style=\"text-align: right;\">\n",
       "      <th></th>\n",
       "      <th>ArticleId</th>\n",
       "      <th>Text</th>\n",
       "      <th>Category</th>\n",
       "    </tr>\n",
       "  </thead>\n",
       "  <tbody>\n",
       "    <tr>\n",
       "      <th>0</th>\n",
       "      <td>1833</td>\n",
       "      <td>worldcom ex-boss launches defence lawyers defe...</td>\n",
       "      <td>business</td>\n",
       "    </tr>\n",
       "    <tr>\n",
       "      <th>1</th>\n",
       "      <td>154</td>\n",
       "      <td>german business confidence slides german busin...</td>\n",
       "      <td>business</td>\n",
       "    </tr>\n",
       "    <tr>\n",
       "      <th>2</th>\n",
       "      <td>1101</td>\n",
       "      <td>bbc poll indicates economic gloom citizens in ...</td>\n",
       "      <td>business</td>\n",
       "    </tr>\n",
       "    <tr>\n",
       "      <th>3</th>\n",
       "      <td>1976</td>\n",
       "      <td>lifestyle  governs mobile choice  faster  bett...</td>\n",
       "      <td>tech</td>\n",
       "    </tr>\n",
       "    <tr>\n",
       "      <th>4</th>\n",
       "      <td>917</td>\n",
       "      <td>enron bosses in $168m payout eighteen former e...</td>\n",
       "      <td>business</td>\n",
       "    </tr>\n",
       "  </tbody>\n",
       "</table>\n",
       "</div>"
      ],
      "text/plain": [
       "   ArticleId                                               Text  Category\n",
       "0       1833  worldcom ex-boss launches defence lawyers defe...  business\n",
       "1        154  german business confidence slides german busin...  business\n",
       "2       1101  bbc poll indicates economic gloom citizens in ...  business\n",
       "3       1976  lifestyle  governs mobile choice  faster  bett...      tech\n",
       "4        917  enron bosses in $168m payout eighteen former e...  business"
      ]
     },
     "execution_count": 9,
     "metadata": {},
     "output_type": "execute_result"
    }
   ],
   "source": [
    "data = pd.read_csv(\"English Dataset.csv\")\n",
    "data.head()"
   ]
  },
  {
   "cell_type": "markdown",
   "id": "c33d8e69",
   "metadata": {},
   "source": [
    "We check how many unique categories there are.\n"
   ]
  },
  {
   "cell_type": "code",
   "execution_count": 10,
   "id": "1cebebe0-7a8c-4c23-bd57-3ab9382d3abf",
   "metadata": {},
   "outputs": [
    {
     "data": {
      "text/plain": [
       "array(['business', 'tech', 'politics', 'sport', 'entertainment'],\n",
       "      dtype=object)"
      ]
     },
     "execution_count": 10,
     "metadata": {},
     "output_type": "execute_result"
    }
   ],
   "source": [
    "data.Category.unique()"
   ]
  },
  {
   "cell_type": "markdown",
   "id": "f8436219",
   "metadata": {},
   "source": [
    "We group the data according the 'Category' column and check how many data there are from each category"
   ]
  },
  {
   "cell_type": "code",
   "execution_count": 11,
   "id": "1bb9434a-6ce5-407b-b15d-8f0c4251a322",
   "metadata": {},
   "outputs": [
    {
     "data": {
      "text/plain": [
       "Category\n",
       "business         336.0\n",
       "entertainment    273.0\n",
       "politics         274.0\n",
       "sport            346.0\n",
       "tech             261.0\n",
       "Name: (ArticleId, count), dtype: float64"
      ]
     },
     "execution_count": 11,
     "metadata": {},
     "output_type": "execute_result"
    }
   ],
   "source": [
    "data.groupby('Category').describe().iloc[:,0]"
   ]
  },
  {
   "cell_type": "markdown",
   "id": "7ee35126-bc9a-4bd8-8ae6-ab007d2d4f52",
   "metadata": {},
   "source": [
    "This method we created returns a list, which we’ll assign to a new column called tokenized."
   ]
  },
  {
   "cell_type": "code",
   "execution_count": 12,
   "id": "53602247-cca4-4193-99c4-0483df2175a4",
   "metadata": {},
   "outputs": [
    {
     "data": {
      "text/html": [
       "<div>\n",
       "<style scoped>\n",
       "    .dataframe tbody tr th:only-of-type {\n",
       "        vertical-align: middle;\n",
       "    }\n",
       "\n",
       "    .dataframe tbody tr th {\n",
       "        vertical-align: top;\n",
       "    }\n",
       "\n",
       "    .dataframe thead th {\n",
       "        text-align: right;\n",
       "    }\n",
       "</style>\n",
       "<table border=\"1\" class=\"dataframe\">\n",
       "  <thead>\n",
       "    <tr style=\"text-align: right;\">\n",
       "      <th></th>\n",
       "      <th>Text</th>\n",
       "      <th>tokenized</th>\n",
       "    </tr>\n",
       "  </thead>\n",
       "  <tbody>\n",
       "    <tr>\n",
       "      <th>0</th>\n",
       "      <td>worldcom ex-boss launches defence lawyers defe...</td>\n",
       "      <td>[worldcom, launches, defence, lawyers, defendi...</td>\n",
       "    </tr>\n",
       "    <tr>\n",
       "      <th>1</th>\n",
       "      <td>german business confidence slides german busin...</td>\n",
       "      <td>[german, business, confidence, slides, german,...</td>\n",
       "    </tr>\n",
       "    <tr>\n",
       "      <th>2</th>\n",
       "      <td>bbc poll indicates economic gloom citizens in ...</td>\n",
       "      <td>[bbc, poll, indicates, economic, gloom, citize...</td>\n",
       "    </tr>\n",
       "    <tr>\n",
       "      <th>3</th>\n",
       "      <td>lifestyle  governs mobile choice  faster  bett...</td>\n",
       "      <td>[lifestyle, governs, mobile, choice, faster, b...</td>\n",
       "    </tr>\n",
       "    <tr>\n",
       "      <th>4</th>\n",
       "      <td>enron bosses in $168m payout eighteen former e...</td>\n",
       "      <td>[enron, bosses, in, payout, eighteen, former, ...</td>\n",
       "    </tr>\n",
       "  </tbody>\n",
       "</table>\n",
       "</div>"
      ],
      "text/plain": [
       "                                                Text  \\\n",
       "0  worldcom ex-boss launches defence lawyers defe...   \n",
       "1  german business confidence slides german busin...   \n",
       "2  bbc poll indicates economic gloom citizens in ...   \n",
       "3  lifestyle  governs mobile choice  faster  bett...   \n",
       "4  enron bosses in $168m payout eighteen former e...   \n",
       "\n",
       "                                           tokenized  \n",
       "0  [worldcom, launches, defence, lawyers, defendi...  \n",
       "1  [german, business, confidence, slides, german,...  \n",
       "2  [bbc, poll, indicates, economic, gloom, citize...  \n",
       "3  [lifestyle, governs, mobile, choice, faster, b...  \n",
       "4  [enron, bosses, in, payout, eighteen, former, ...  "
      ]
     },
     "execution_count": 12,
     "metadata": {},
     "output_type": "execute_result"
    }
   ],
   "source": [
    "data['tokenized'] = data.apply(lambda x: [w for w in nltk.word_tokenize(x[\"Text\"]) if w.isalpha()]  , axis=1)\n",
    "data[['Text', 'tokenized']].head()"
   ]
  },
  {
   "cell_type": "markdown",
   "id": "a5464d7b",
   "metadata": {},
   "source": [
    "We remove stop words from 'tokenized' class"
   ]
  },
  {
   "cell_type": "code",
   "execution_count": 13,
   "id": "c7b108df-b06d-4afa-9df8-b6c6efd419b0",
   "metadata": {},
   "outputs": [
    {
     "data": {
      "text/html": [
       "<div>\n",
       "<style scoped>\n",
       "    .dataframe tbody tr th:only-of-type {\n",
       "        vertical-align: middle;\n",
       "    }\n",
       "\n",
       "    .dataframe tbody tr th {\n",
       "        vertical-align: top;\n",
       "    }\n",
       "\n",
       "    .dataframe thead th {\n",
       "        text-align: right;\n",
       "    }\n",
       "</style>\n",
       "<table border=\"1\" class=\"dataframe\">\n",
       "  <thead>\n",
       "    <tr style=\"text-align: right;\">\n",
       "      <th></th>\n",
       "      <th>Text</th>\n",
       "      <th>stopwords_removed</th>\n",
       "    </tr>\n",
       "  </thead>\n",
       "  <tbody>\n",
       "    <tr>\n",
       "      <th>0</th>\n",
       "      <td>worldcom ex-boss launches defence lawyers defe...</td>\n",
       "      <td>[worldcom, launches, defence, lawyers, defendi...</td>\n",
       "    </tr>\n",
       "    <tr>\n",
       "      <th>1</th>\n",
       "      <td>german business confidence slides german busin...</td>\n",
       "      <td>[german, business, confidence, slides, german,...</td>\n",
       "    </tr>\n",
       "    <tr>\n",
       "      <th>2</th>\n",
       "      <td>bbc poll indicates economic gloom citizens in ...</td>\n",
       "      <td>[bbc, poll, indicates, economic, gloom, citize...</td>\n",
       "    </tr>\n",
       "    <tr>\n",
       "      <th>3</th>\n",
       "      <td>lifestyle  governs mobile choice  faster  bett...</td>\n",
       "      <td>[lifestyle, governs, mobile, choice, faster, b...</td>\n",
       "    </tr>\n",
       "    <tr>\n",
       "      <th>4</th>\n",
       "      <td>enron bosses in $168m payout eighteen former e...</td>\n",
       "      <td>[enron, bosses, payout, eighteen, former, enro...</td>\n",
       "    </tr>\n",
       "  </tbody>\n",
       "</table>\n",
       "</div>"
      ],
      "text/plain": [
       "                                                Text  \\\n",
       "0  worldcom ex-boss launches defence lawyers defe...   \n",
       "1  german business confidence slides german busin...   \n",
       "2  bbc poll indicates economic gloom citizens in ...   \n",
       "3  lifestyle  governs mobile choice  faster  bett...   \n",
       "4  enron bosses in $168m payout eighteen former e...   \n",
       "\n",
       "                                   stopwords_removed  \n",
       "0  [worldcom, launches, defence, lawyers, defendi...  \n",
       "1  [german, business, confidence, slides, german,...  \n",
       "2  [bbc, poll, indicates, economic, gloom, citize...  \n",
       "3  [lifestyle, governs, mobile, choice, faster, b...  \n",
       "4  [enron, bosses, payout, eighteen, former, enro...  "
      ]
     },
     "execution_count": 13,
     "metadata": {},
     "output_type": "execute_result"
    }
   ],
   "source": [
    "data['stopwords_removed'] = data.apply(lambda x: [word for word in x['tokenized'] if not word in set(stopwords.words(\"english\"))] , axis=1)\n",
    "data[['Text', 'stopwords_removed']].head()"
   ]
  },
  {
   "cell_type": "markdown",
   "id": "858e5eab",
   "metadata": {},
   "source": [
    "We remove the morphological and inflectional endings from words."
   ]
  },
  {
   "cell_type": "code",
   "execution_count": 14,
   "id": "252d4bdd-8a9b-41ef-94a7-e7cd2cafa260",
   "metadata": {},
   "outputs": [
    {
     "data": {
      "text/html": [
       "<div>\n",
       "<style scoped>\n",
       "    .dataframe tbody tr th:only-of-type {\n",
       "        vertical-align: middle;\n",
       "    }\n",
       "\n",
       "    .dataframe tbody tr th {\n",
       "        vertical-align: top;\n",
       "    }\n",
       "\n",
       "    .dataframe thead th {\n",
       "        text-align: right;\n",
       "    }\n",
       "</style>\n",
       "<table border=\"1\" class=\"dataframe\">\n",
       "  <thead>\n",
       "    <tr style=\"text-align: right;\">\n",
       "      <th></th>\n",
       "      <th>Text</th>\n",
       "      <th>porter_stemmed</th>\n",
       "    </tr>\n",
       "  </thead>\n",
       "  <tbody>\n",
       "    <tr>\n",
       "      <th>0</th>\n",
       "      <td>worldcom ex-boss launches defence lawyers defe...</td>\n",
       "      <td>[worldcom, launch, defenc, lawyer, defend, for...</td>\n",
       "    </tr>\n",
       "    <tr>\n",
       "      <th>1</th>\n",
       "      <td>german business confidence slides german busin...</td>\n",
       "      <td>[german, busi, confid, slide, german, busi, co...</td>\n",
       "    </tr>\n",
       "    <tr>\n",
       "      <th>2</th>\n",
       "      <td>bbc poll indicates economic gloom citizens in ...</td>\n",
       "      <td>[bbc, poll, indic, econom, gloom, citizen, maj...</td>\n",
       "    </tr>\n",
       "    <tr>\n",
       "      <th>3</th>\n",
       "      <td>lifestyle  governs mobile choice  faster  bett...</td>\n",
       "      <td>[lifestyl, govern, mobil, choic, faster, bette...</td>\n",
       "    </tr>\n",
       "    <tr>\n",
       "      <th>4</th>\n",
       "      <td>enron bosses in $168m payout eighteen former e...</td>\n",
       "      <td>[enron, boss, payout, eighteen, former, enron,...</td>\n",
       "    </tr>\n",
       "  </tbody>\n",
       "</table>\n",
       "</div>"
      ],
      "text/plain": [
       "                                                Text  \\\n",
       "0  worldcom ex-boss launches defence lawyers defe...   \n",
       "1  german business confidence slides german busin...   \n",
       "2  bbc poll indicates economic gloom citizens in ...   \n",
       "3  lifestyle  governs mobile choice  faster  bett...   \n",
       "4  enron bosses in $168m payout eighteen former e...   \n",
       "\n",
       "                                      porter_stemmed  \n",
       "0  [worldcom, launch, defenc, lawyer, defend, for...  \n",
       "1  [german, busi, confid, slide, german, busi, co...  \n",
       "2  [bbc, poll, indic, econom, gloom, citizen, maj...  \n",
       "3  [lifestyl, govern, mobil, choic, faster, bette...  \n",
       "4  [enron, boss, payout, eighteen, former, enron,...  "
      ]
     },
     "execution_count": 14,
     "metadata": {},
     "output_type": "execute_result"
    }
   ],
   "source": [
    "data['porter_stemmed'] = data.apply(lambda x: [PorterStemmer().stem(word) for word in x['stopwords_removed']], axis=1)\n",
    "data[['Text', 'porter_stemmed']].head()"
   ]
  },
  {
   "cell_type": "markdown",
   "id": "f5492cc3",
   "metadata": {},
   "source": [
    "We have edited the text by converting the last list we have obtained back into a string."
   ]
  },
  {
   "cell_type": "code",
   "execution_count": 15,
   "id": "57e86c17-7356-4d41-b559-b47e591dda31",
   "metadata": {},
   "outputs": [
    {
     "data": {
      "text/html": [
       "<div>\n",
       "<style scoped>\n",
       "    .dataframe tbody tr th:only-of-type {\n",
       "        vertical-align: middle;\n",
       "    }\n",
       "\n",
       "    .dataframe tbody tr th {\n",
       "        vertical-align: top;\n",
       "    }\n",
       "\n",
       "    .dataframe thead th {\n",
       "        text-align: right;\n",
       "    }\n",
       "</style>\n",
       "<table border=\"1\" class=\"dataframe\">\n",
       "  <thead>\n",
       "    <tr style=\"text-align: right;\">\n",
       "      <th></th>\n",
       "      <th>Text</th>\n",
       "      <th>Clear_text</th>\n",
       "    </tr>\n",
       "  </thead>\n",
       "  <tbody>\n",
       "    <tr>\n",
       "      <th>0</th>\n",
       "      <td>worldcom ex-boss launches defence lawyers defe...</td>\n",
       "      <td>worldcom launch defenc lawyer defend former wo...</td>\n",
       "    </tr>\n",
       "    <tr>\n",
       "      <th>1</th>\n",
       "      <td>german business confidence slides german busin...</td>\n",
       "      <td>german busi confid slide german busi confid fe...</td>\n",
       "    </tr>\n",
       "    <tr>\n",
       "      <th>2</th>\n",
       "      <td>bbc poll indicates economic gloom citizens in ...</td>\n",
       "      <td>bbc poll indic econom gloom citizen major nati...</td>\n",
       "    </tr>\n",
       "    <tr>\n",
       "      <th>3</th>\n",
       "      <td>lifestyle  governs mobile choice  faster  bett...</td>\n",
       "      <td>lifestyl govern mobil choic faster better funk...</td>\n",
       "    </tr>\n",
       "    <tr>\n",
       "      <th>4</th>\n",
       "      <td>enron bosses in $168m payout eighteen former e...</td>\n",
       "      <td>enron boss payout eighteen former enron direct...</td>\n",
       "    </tr>\n",
       "  </tbody>\n",
       "</table>\n",
       "</div>"
      ],
      "text/plain": [
       "                                                Text  \\\n",
       "0  worldcom ex-boss launches defence lawyers defe...   \n",
       "1  german business confidence slides german busin...   \n",
       "2  bbc poll indicates economic gloom citizens in ...   \n",
       "3  lifestyle  governs mobile choice  faster  bett...   \n",
       "4  enron bosses in $168m payout eighteen former e...   \n",
       "\n",
       "                                          Clear_text  \n",
       "0  worldcom launch defenc lawyer defend former wo...  \n",
       "1  german busi confid slide german busi confid fe...  \n",
       "2  bbc poll indic econom gloom citizen major nati...  \n",
       "3  lifestyl govern mobil choic faster better funk...  \n",
       "4  enron boss payout eighteen former enron direct...  "
      ]
     },
     "execution_count": 15,
     "metadata": {},
     "output_type": "execute_result"
    }
   ],
   "source": [
    "data['Clear_text'] = data.apply(lambda x: ( \" \".join(x['porter_stemmed'])), axis=1)\n",
    "data[['Text', 'Clear_text']].head()"
   ]
  },
  {
   "cell_type": "markdown",
   "id": "90832695-01f9-4714-ace8-1a721da38419",
   "metadata": {},
   "source": [
    "#  Spesific Keywords"
   ]
  },
  {
   "cell_type": "markdown",
   "id": "7921d601-9ac1-4163-9e57-e09376018752",
   "metadata": {},
   "source": [
    "According to the words found in our classes, we looked at the 3 most common words in each class."
   ]
  },
  {
   "cell_type": "code",
   "execution_count": 16,
   "id": "6c0fde0e-82c0-43b3-944b-0d76ffdc1a75",
   "metadata": {},
   "outputs": [],
   "source": [
    "vectorizer = CountVectorizer(stop_words='english')"
   ]
  },
  {
   "cell_type": "code",
   "execution_count": 17,
   "id": "c6e61fc1-527d-4e31-b097-cde9a8aea9db",
   "metadata": {},
   "outputs": [
    {
     "data": {
      "text/html": [
       "<div>\n",
       "<style scoped>\n",
       "    .dataframe tbody tr th:only-of-type {\n",
       "        vertical-align: middle;\n",
       "    }\n",
       "\n",
       "    .dataframe tbody tr th {\n",
       "        vertical-align: top;\n",
       "    }\n",
       "\n",
       "    .dataframe thead th {\n",
       "        text-align: right;\n",
       "    }\n",
       "</style>\n",
       "<table border=\"1\" class=\"dataframe\">\n",
       "  <thead>\n",
       "    <tr style=\"text-align: right;\">\n",
       "      <th></th>\n",
       "      <th>Business</th>\n",
       "      <th>Count Business</th>\n",
       "      <th>Tech</th>\n",
       "      <th>Count Tech</th>\n",
       "      <th>Politics</th>\n",
       "      <th>Count Politics</th>\n",
       "      <th>Sport</th>\n",
       "      <th>Count Sport</th>\n",
       "      <th>Entertainment</th>\n",
       "      <th>Count Entertainment</th>\n",
       "    </tr>\n",
       "  </thead>\n",
       "  <tbody>\n",
       "    <tr>\n",
       "      <th>0</th>\n",
       "      <td>Said</td>\n",
       "      <td>1100</td>\n",
       "      <td>Said</td>\n",
       "      <td>1064</td>\n",
       "      <td>Said</td>\n",
       "      <td>1445</td>\n",
       "      <td>Said</td>\n",
       "      <td>635</td>\n",
       "      <td>Film</td>\n",
       "      <td>706</td>\n",
       "    </tr>\n",
       "    <tr>\n",
       "      <th>1</th>\n",
       "      <td>Year</td>\n",
       "      <td>574</td>\n",
       "      <td>Use</td>\n",
       "      <td>662</td>\n",
       "      <td>Mr</td>\n",
       "      <td>1099</td>\n",
       "      <td>Game</td>\n",
       "      <td>482</td>\n",
       "      <td>Said</td>\n",
       "      <td>594</td>\n",
       "    </tr>\n",
       "    <tr>\n",
       "      <th>2</th>\n",
       "      <td>Mr</td>\n",
       "      <td>394</td>\n",
       "      <td>Peopl</td>\n",
       "      <td>646</td>\n",
       "      <td>Labour</td>\n",
       "      <td>488</td>\n",
       "      <td>Win</td>\n",
       "      <td>419</td>\n",
       "      <td>Best</td>\n",
       "      <td>404</td>\n",
       "    </tr>\n",
       "  </tbody>\n",
       "</table>\n",
       "</div>"
      ],
      "text/plain": [
       "  Business  Count Business   Tech  Count Tech Politics  Count Politics Sport  \\\n",
       "0     Said            1100   Said        1064     Said            1445  Said   \n",
       "1     Year             574    Use         662       Mr            1099  Game   \n",
       "2       Mr             394  Peopl         646   Labour             488   Win   \n",
       "\n",
       "   Count Sport Entertainment  Count Entertainment  \n",
       "0          635          Film                  706  \n",
       "1          482          Said                  594  \n",
       "2          419          Best                  404  "
      ]
     },
     "execution_count": 17,
     "metadata": {},
     "output_type": "execute_result"
    }
   ],
   "source": [
    "spesific_keywords_df = pd.DataFrame()\n",
    "for i in data.Category.unique():\n",
    "    keyword_list = list()\n",
    "    data_category = data[data.Category == i]\n",
    "    X_category = vectorizer.fit_transform(data_category.Clear_text)\n",
    "    words_count = np.sum(X_category.toarray(), axis=0)\n",
    "    words_total = words_count.sum()\n",
    "    freq_of_words = dict(zip(vectorizer.get_feature_names_out(), words_count))\n",
    "    freq_of_words = dict(sorted(freq_of_words.items(), key=lambda item: item[1], reverse=True))\n",
    "    \n",
    "    \n",
    "    \n",
    "    spesific_keywords_list = list()\n",
    "    spesific_keywords_count = list()\n",
    "    \n",
    "    \n",
    "    count = 0\n",
    "    \n",
    "    for item in freq_of_words.items():\n",
    "        count += 1\n",
    "        #print(\" Catogery : \",i,\" İtem --> \",item[0], \" Count--> \", item[1])\n",
    "        spesific_keywords_list.append(item[0].capitalize())\n",
    "        spesific_keywords_count.append(item[1])\n",
    "        if count == 3:  # Whichever number you write instead of 3 will return as many words\n",
    "            break\n",
    "            \n",
    "    c_name = i.capitalize()\n",
    "    spesific_keywords_df[c_name] = spesific_keywords_list\n",
    "    c_name = \"Count \" + i.capitalize()\n",
    "    spesific_keywords_df[c_name] = spesific_keywords_count\n",
    "    \n",
    "    \n",
    "    \n",
    "       \n",
    "spesific_keywords_df"
   ]
  },
  {
   "cell_type": "markdown",
   "id": "27ff725f-3bad-4926-9d94-ffe58f232109",
   "metadata": {
    "tags": []
   },
   "source": [
    "# Part2 : Gaussian Naive Bayes"
   ]
  },
  {
   "attachments": {
    "Naive_Bayes_Formula.png": {
     "image/png": "[encoded data removed]"
    }
   },
   "cell_type": "markdown",
   "id": "9dbe7aef",
   "metadata": {},
   "source": [
    "Gaussian Naive Bayes is a variant of Naive Bayes algorithm.\n",
    "Here is Naive Bayes formula :\n",
    "<img src=\"attachment:Naive_Bayes_Formula.png\" width=\"300\"/>\n",
    "\n",
    "\n"
   ]
  },
  {
   "cell_type": "code",
   "execution_count": 18,
   "id": "0d7e6900-cacd-4ea8-ae96-ca2809173189",
   "metadata": {},
   "outputs": [],
   "source": [
    "from collections import defaultdict\n",
    "\n",
    "class GaussianNaiveBayes:\n",
    "    alpha = None\n",
    "    prop_classes = {}\n",
    "    idx_classes = defaultdict() \n",
    "    num_of_words_classes = defaultdict()\n",
    "    each_class_vectorizer = defaultdict()\n",
    "    prop_each_classes_word = defaultdict()\n",
    "    classes = None # y_train.unique()\n",
    "    n_gram = None\n",
    "    \n",
    "    \n",
    "    def __init__(self,n_gram):\n",
    "        self.alpha = 1\n",
    "        self.n_gram = n_gram\n",
    "        \n",
    "    def fit(self, X_train,y_train):\n",
    "        \n",
    "        self.words = X_train[\"words\"]                            # list of all words in data\n",
    "        self.classes = y_train.unique()\n",
    "        num_of_distinct_words = len(self.words)                  # number of all words\n",
    "        matrix_vectorizer_X_train = X_train[\"vectorizer\"]        # vectorizer matrix\n",
    "       \n",
    "        self.prop_classes = dict(y_train.value_counts()/len(y_train))  # Oranların listesi\n",
    "        \n",
    "        for i in self.classes:\n",
    "            idx  = y_train[y_train == i].index\n",
    "            self.idx_classes[i] = idx                         # İndexlerin Sınıflara ayrılmış Listesi\n",
    "       \n",
    "       \n",
    "       \n",
    "        for i in self.classes:\n",
    "            idx = self.idx_classes[i]\n",
    "            count = 0\n",
    "            for j in idx:\n",
    "                count += np.sum(matrix_vectorizer_X_train.iloc[j])\n",
    "                \n",
    "            self.num_of_words_classes[i] = count  #'sport': 48222, 'business': 48503, 'politics': 49348, 'entertainment': 41560, 'tech': 53636}\n",
    "        \n",
    "        \n",
    "        \n",
    "   \n",
    "        \n",
    "        for i in self.classes:\n",
    "            idx = self.idx_classes[i]\n",
    "            each_class = matrix_vectorizer_X_train.iloc[idx]\n",
    "            self.each_class_vectorizer[i] = each_class      #'sport': sport_vectorizer, 'business': business_vectorizer, ....... 'tech': tech_vectorizer}\n",
    "        \n",
    "        \n",
    "        \n",
    "        \n",
    "        for i in self.classes:\n",
    "            prop_each_classes_word = {word:0 for word in self.words}\n",
    "            self.prop_each_classes_word[i] = prop_each_classes_word  # sport': sport_word_prob, ......  'tech': tech_word_prob}\n",
    "            \n",
    "        \n",
    "        \n",
    "        \n",
    "        for word in self.words:\n",
    "            for i in self.classes: \n",
    "                num_of_word_given_i = self.each_class_vectorizer[i][word].sum()\n",
    "                prob_word_given_i = (num_of_word_given_i + self.alpha) / ( self.num_of_words_classes[i] + self.alpha * num_of_distinct_words)\n",
    "                self.prop_each_classes_word[i][word] = prob_word_given_i\n",
    "                \n",
    "                \n",
    "                \n",
    "        \n",
    "    def predict(self,X_test):        \n",
    "        y_pred = list()        \n",
    "    \n",
    "    \n",
    "        for element in X_test:\n",
    "            \n",
    "            p_each_class= defaultdict()\n",
    "            \n",
    "            if self.n_gram == \"unigram\":  \n",
    "                list_of_instance_sentence = element.split(' ')\n",
    "            elif self.n_gram == \"bigram\":\n",
    "                words = element.split(\" \")\n",
    "                list_of_instance_sentence = []\n",
    "                for i in range(0, len(words) - 1, 2):\n",
    "                    pair = [words[i], words[i + 1]]\n",
    "                    list_of_instance_sentence.append(pair)\n",
    "          \n",
    "            for i in self.classes:\n",
    "                p_each = np.log(self.prop_classes[i])\n",
    "                for word in list_of_instance_sentence:\n",
    "                    if self.n_gram == \"bigram\":\n",
    "                        word  = \" \".join(word)\n",
    "                    if word in  self.prop_each_classes_word[i]:\n",
    "                        p_each += np.log(self.prop_each_classes_word[i][word])\n",
    "                p_each_class[i] = p_each\n",
    "                \n",
    "        \n",
    "            pred = max(p_each_class.items(), key=lambda a: a[1])[0]\n",
    "            y_pred.append(pred)\n",
    "                  \n",
    "        return y_pred"
   ]
  },
  {
   "cell_type": "markdown",
   "id": "ebaf0dc4",
   "metadata": {},
   "source": [
    "We seperate the data with the ratio of 80/20 to generate X_train, X_test, y_train and y_test."
   ]
  },
  {
   "cell_type": "code",
   "execution_count": 19,
   "id": "73061bbe-9c5f-46dd-a6c6-3a62e1afb19b",
   "metadata": {},
   "outputs": [],
   "source": [
    "X_train, X_test, y_train, y_test = train_test_split(data[\"Text\"], data[\"Category\"], test_size=0.20, random_state=42)\n",
    "X_train.reset_index(drop=True, inplace=True)\n",
    "y_train.reset_index(drop=True, inplace=True)"
   ]
  },
  {
   "cell_type": "markdown",
   "id": "4cad52d3",
   "metadata": {},
   "source": [
    "The prepare_X_train function arranges the X_train method to be used  Naive Bayes code according to the ngram_range and stop words we want\n",
    "\n",
    "If ngram_range is (1,1), it means that X_train is unigram. \n",
    "\n",
    "Else ngram_range is(2,2), it means that X_train is bigram. \n",
    "\n",
    "If stop_words is none, then we dont remove stop words from X_train. \n",
    "\n",
    "Else stop_words is 'english', then we remove stop words."
   ]
  },
  {
   "cell_type": "code",
   "execution_count": 20,
   "id": "bc000513-4c81-4d50-9fbf-5115c15896e8",
   "metadata": {},
   "outputs": [],
   "source": [
    "def prepare_X_train(X_train, ngram_range ,stop_words):\n",
    "    vectorizer = CountVectorizer(ngram_range=ngram_range, stop_words=stop_words) # obtain BoW model (two option : bigram(2,2), unigram(1,1))\n",
    "    matrix_vectorize = vectorizer.fit_transform(X_train)\n",
    "    words_X_train = list(vectorizer.get_feature_names_out())\n",
    "    matrix_vectorizer_X_train = pd.DataFrame(matrix_vectorize.toarray(), columns = list(words_X_train))\n",
    "    X_train = {\"words\": words_X_train, \"vectorizer\" :matrix_vectorizer_X_train }\n",
    "    return X_train"
   ]
  },
  {
   "cell_type": "markdown",
   "id": "e97dc206-c21c-4323-8289-5f31e8f1b707",
   "metadata": {},
   "source": [
    "## Unigram without removing stopwords\n"
   ]
  },
  {
   "cell_type": "markdown",
   "id": "5bddbcb6",
   "metadata": {},
   "source": [
    "Here, we train our unigram model without removing stopwords from X_train.\n",
    "\n",
    "Then we calculate the model's accuracy, precision, recall and f1 score values."
   ]
  },
  {
   "cell_type": "code",
   "execution_count": 21,
   "id": "c7acc7ce-1f3f-46d4-9d5f-a7a2557fd529",
   "metadata": {
    "tags": []
   },
   "outputs": [
    {
     "name": "stdout",
     "output_type": "stream",
     "text": [
      "Accuracy:  0.9731543624161074\n",
      "Precision:  0.9738560193587418\n",
      "Recall:  0.9728311558506462\n",
      "F1 Score:  0.9732468965054778\n"
     ]
    }
   ],
   "source": [
    "X_train_unigram_without_stop_words = prepare_X_train(X_train,(1,1),stop_words= None)\n",
    "\n",
    "model = GaussianNaiveBayes(n_gram=\"unigram\")\n",
    "\n",
    "model.fit(X_train_unigram_without_stop_words,y_train)\n",
    "\n",
    "y_pred = model.predict(X_test)\n",
    "\n",
    "\n",
    "print(\"Accuracy: \",accuracy_score(y_test,y_pred))\n",
    "print(\"Precision: \",precision_score(y_test,y_pred,average=\"macro\"))\n",
    "print(\"Recall: \" ,recall_score(y_test,y_pred,average=\"macro\"))\n",
    "print(\"F1 Score: \", f1_score(y_test,y_pred,average=\"macro\"))\n"
   ]
  },
  {
   "cell_type": "markdown",
   "id": "0a471a7b-7fca-47b2-a573-ed24285a8134",
   "metadata": {},
   "source": [
    "## Unigram with removing stopwords"
   ]
  },
  {
   "cell_type": "markdown",
   "id": "4a1e8fdb",
   "metadata": {},
   "source": [
    "Here, we train our unigram model with removing stopwords from X_train.\n",
    "\n",
    "Then we calculate the model's accuracy, precision, recall and f1 score values."
   ]
  },
  {
   "cell_type": "code",
   "execution_count": 22,
   "id": "3151c7f3-9bb7-4a0b-b333-4cc82f9be7b5",
   "metadata": {
    "tags": []
   },
   "outputs": [
    {
     "name": "stdout",
     "output_type": "stream",
     "text": [
      "Accuracy:  0.9765100671140939\n",
      "Precision:  0.977243799153055\n",
      "Recall:  0.976279431712715\n",
      "F1 Score:  0.9767227552226027\n"
     ]
    }
   ],
   "source": [
    "X_train_unigram_with_stop_words = prepare_X_train(X_train,(1,1),stop_words= \"english\")\n",
    "\n",
    "model = GaussianNaiveBayes(n_gram=\"unigram\")\n",
    "\n",
    "model.fit(X_train_unigram_with_stop_words,y_train)\n",
    "\n",
    "y_pred = model.predict(X_test)\n",
    "\n",
    "print(\"Accuracy: \",accuracy_score(y_test,y_pred))\n",
    "print(\"Precision: \",precision_score(y_test,y_pred,average=\"macro\"))\n",
    "print(\"Recall: \" ,recall_score(y_test,y_pred,average=\"macro\"))\n",
    "print(\"F1 Score: \", f1_score(y_test,y_pred,average=\"macro\"))\n"
   ]
  },
  {
   "cell_type": "markdown",
   "id": "f232c0f5-57d6-4b3a-90e1-96d744642b6f",
   "metadata": {},
   "source": [
    "## Bigram without removing stopwords"
   ]
  },
  {
   "cell_type": "markdown",
   "id": "c5e03115",
   "metadata": {},
   "source": [
    "Here, we train our bigram model without removing stopwords from X_train.\n",
    "\n",
    "Then we calculate the model's accuracy, precision, recall and f1 score values."
   ]
  },
  {
   "cell_type": "code",
   "execution_count": 23,
   "id": "89216948-c252-4fa0-9040-11d0c83ae3f3",
   "metadata": {},
   "outputs": [
    {
     "name": "stdout",
     "output_type": "stream",
     "text": [
      "Accuracy:  0.9463087248322147\n",
      "Precision:  0.9497162294566766\n",
      "Recall:  0.9424335689298209\n",
      "F1 Score:  0.9441044114249373\n"
     ]
    }
   ],
   "source": [
    "X_train_biagram_without_stop_words = prepare_X_train(X_train,(2,2),stop_words= None)\n",
    "\n",
    "model = GaussianNaiveBayes(n_gram=\"bigram\")\n",
    "\n",
    "model.fit(X_train_biagram_without_stop_words,y_train)\n",
    "\n",
    "y_pred = model.predict(X_test)\n",
    "\n",
    "print(\"Accuracy: \",accuracy_score(y_test,y_pred))\n",
    "print(\"Precision: \",precision_score(y_test,y_pred,average=\"macro\"))\n",
    "print(\"Recall: \" ,recall_score(y_test,y_pred,average=\"macro\"))\n",
    "print(\"F1 Score: \", f1_score(y_test,y_pred,average=\"macro\"))"
   ]
  },
  {
   "cell_type": "markdown",
   "id": "40a4ce13-7bf7-40c8-9b02-146d01882560",
   "metadata": {},
   "source": [
    "## Bigram with removing stopwords"
   ]
  },
  {
   "cell_type": "markdown",
   "id": "e3b92ae2",
   "metadata": {},
   "source": [
    "Here, we train our bigram model with removing stopwords from X_train.\n",
    "\n",
    "Then we calculate the model's accuracy, precision, recall and f1 score values."
   ]
  },
  {
   "cell_type": "code",
   "execution_count": 24,
   "id": "188cc730-12fc-486d-83e0-0b5973937ca9",
   "metadata": {},
   "outputs": [
    {
     "name": "stdout",
     "output_type": "stream",
     "text": [
      "Accuracy:  0.9463087248322147\n",
      "Precision:  0.9470623418449506\n",
      "Recall:  0.9468579995716426\n",
      "F1 Score:  0.9464885414435639\n"
     ]
    }
   ],
   "source": [
    "X_train_biagram_with_stop_words = prepare_X_train(X_train,(2,2),stop_words= \"english\")\n",
    "\n",
    "model = GaussianNaiveBayes(n_gram=\"bigram\")\n",
    "\n",
    "model.fit(X_train_biagram_with_stop_words,y_train)\n",
    "\n",
    "y_pred = model.predict(X_test)\n",
    "\n",
    "print(\"Accuracy: \",accuracy_score(y_test,y_pred))\n",
    "print(\"Precision: \",precision_score(y_test,y_pred,average=\"macro\"))\n",
    "print(\"Recall: \" ,recall_score(y_test,y_pred,average=\"macro\"))\n",
    "print(\"F1 Score: \", f1_score(y_test,y_pred,average=\"macro\"))"
   ]
  },
  {
   "cell_type": "markdown",
   "id": "90299e29-a7d5-40bb-88a2-b152fb0f071c",
   "metadata": {},
   "source": [
    "# Part 3:"
   ]
  },
  {
   "cell_type": "markdown",
   "id": "5695649a-ea38-4dbe-aa07-150fd8daac88",
   "metadata": {},
   "source": [
    "## 3.1 Analyzing effect of the words on prediction"
   ]
  },
  {
   "cell_type": "markdown",
   "id": "f1d1ceaf",
   "metadata": {},
   "source": [
    "get_frequency_data function calculates the frequencies of the words for each unique categories with using tf-idf algorithm.\n",
    "\n",
    "frequency_presence is a list that keeps most common words appeared in each unique categories.\n",
    "\n",
    "frequency_absence is a list that keeps least common words appeared in each unique categories."
   ]
  },
  {
   "cell_type": "code",
   "execution_count": 25,
   "id": "d227d75a-0ba8-4963-a74c-d4350a087558",
   "metadata": {},
   "outputs": [],
   "source": [
    "def get_frequency_data(x, stop_value=None):\n",
    "    vectorizer = CountVectorizer(ngram_range=(1,1), stop_words=stop_value)\n",
    "    matrix_vectorize = vectorizer.fit_transform(x)\n",
    "    words = list(vectorizer.get_feature_names_out())\n",
    "    tf_idf = TfidfTransformer()\n",
    "    words_tf_tdf = tf_idf.fit(matrix_vectorize).idf_\n",
    "    frequency = dict(zip(words, words_tf_tdf))\n",
    "    frequency = dict(sorted(frequency.items(), key=lambda item: item[1]))\n",
    "    return frequency  # frequency based calculation with TF-IDF"
   ]
  },
  {
   "cell_type": "code",
   "execution_count": 26,
   "id": "9c794409-e9f7-4091-928c-3537c4cd343d",
   "metadata": {
    "tags": []
   },
   "outputs": [],
   "source": [
    "frequency_presence = defaultdict()\n",
    "frequency_absence = defaultdict()\n",
    "for i in data.Category.unique():\n",
    "    frequency_class = get_frequency_data(data[data.Category == i].Text)\n",
    "    frequency_presence[i] = list(frequency_class.items())[:10]\n",
    "    frequency_absence[i] = list(frequency_class.items())[-10:]"
   ]
  },
  {
   "cell_type": "markdown",
   "id": "c1bca69d",
   "metadata": {},
   "source": [
    "Below is 10 words whose presence most strongly predicts that the article belongs to specific category for each five categories."
   ]
  },
  {
   "cell_type": "code",
   "execution_count": 27,
   "id": "a823e1fa-0b36-424e-a707-b2eb1da4d509",
   "metadata": {},
   "outputs": [
    {
     "data": {
      "text/html": [
       "<div>\n",
       "<style scoped>\n",
       "    .dataframe tbody tr th:only-of-type {\n",
       "        vertical-align: middle;\n",
       "    }\n",
       "\n",
       "    .dataframe tbody tr th {\n",
       "        vertical-align: top;\n",
       "    }\n",
       "\n",
       "    .dataframe thead th {\n",
       "        text-align: right;\n",
       "    }\n",
       "</style>\n",
       "<table border=\"1\" class=\"dataframe\">\n",
       "  <thead>\n",
       "    <tr style=\"text-align: right;\">\n",
       "      <th></th>\n",
       "      <th>business</th>\n",
       "      <th>tech</th>\n",
       "      <th>politics</th>\n",
       "      <th>sport</th>\n",
       "      <th>entertainment</th>\n",
       "    </tr>\n",
       "  </thead>\n",
       "  <tbody>\n",
       "    <tr>\n",
       "      <th>0</th>\n",
       "      <td>(of, 1.0)</td>\n",
       "      <td>(and, 1.0)</td>\n",
       "      <td>(in, 1.0)</td>\n",
       "      <td>(the, 1.0)</td>\n",
       "      <td>(the, 1.0)</td>\n",
       "    </tr>\n",
       "    <tr>\n",
       "      <th>1</th>\n",
       "      <td>(the, 1.0)</td>\n",
       "      <td>(the, 1.0)</td>\n",
       "      <td>(the, 1.0)</td>\n",
       "      <td>(to, 1.0028860048891348)</td>\n",
       "      <td>(in, 1.0036563112031105)</td>\n",
       "    </tr>\n",
       "    <tr>\n",
       "      <th>2</th>\n",
       "      <td>(to, 1.0)</td>\n",
       "      <td>(to, 1.0)</td>\n",
       "      <td>(to, 1.0)</td>\n",
       "      <td>(in, 1.014514042884254)</td>\n",
       "      <td>(of, 1.007326040092073)</td>\n",
       "    </tr>\n",
       "    <tr>\n",
       "      <th>3</th>\n",
       "      <td>(in, 1.0029717703891574)</td>\n",
       "      <td>(of, 1.0076628727455692)</td>\n",
       "      <td>(and, 1.0072993024816115)</td>\n",
       "      <td>(of, 1.014514042884254)</td>\n",
       "      <td>(and, 1.0110092855083694)</td>\n",
       "    </tr>\n",
       "    <tr>\n",
       "      <th>4</th>\n",
       "      <td>(and, 1.0119404403719179)</td>\n",
       "      <td>(in, 1.019268418865877)</td>\n",
       "      <td>(of, 1.0072993024816115)</td>\n",
       "      <td>(and, 1.0174423026633423)</td>\n",
       "      <td>(to, 1.018416726786231)</td>\n",
       "    </tr>\n",
       "    <tr>\n",
       "      <th>5</th>\n",
       "      <td>(said, 1.0802900181731276)</td>\n",
       "      <td>(that, 1.0270809586026706)</td>\n",
       "      <td>(on, 1.052250690343878)</td>\n",
       "      <td>(for, 1.0904230060695785)</td>\n",
       "      <td>(on, 1.0679506619085077)</td>\n",
       "    </tr>\n",
       "    <tr>\n",
       "      <th>6</th>\n",
       "      <td>(for, 1.0964978283999811)</td>\n",
       "      <td>(it, 1.0310102367425602)</td>\n",
       "      <td>(is, 1.0560894666510436)</td>\n",
       "      <td>(but, 1.1290130033394477)</td>\n",
       "      <td>(for, 1.07973861766055)</td>\n",
       "    </tr>\n",
       "    <tr>\n",
       "      <th>7</th>\n",
       "      <td>(that, 1.1229894438469572)</td>\n",
       "      <td>(is, 1.0389154162496737)</td>\n",
       "      <td>(for, 1.0599430359670337)</td>\n",
       "      <td>(on, 1.1422145151979834)</td>\n",
       "      <td>(was, 1.1837824774336294)</td>\n",
       "    </tr>\n",
       "    <tr>\n",
       "      <th>8</th>\n",
       "      <td>(it, 1.1263507915496622)</td>\n",
       "      <td>(for, 1.0428915646293129)</td>\n",
       "      <td>(be, 1.0676950127713514)</td>\n",
       "      <td>(at, 1.1623494236070395)</td>\n",
       "      <td>(has, 1.1970277041836501)</td>\n",
       "    </tr>\n",
       "    <tr>\n",
       "      <th>9</th>\n",
       "      <td>(is, 1.1365031630136802)</td>\n",
       "      <td>(be, 1.0877055804191054)</td>\n",
       "      <td>(said, 1.075507552508145)</td>\n",
       "      <td>(with, 1.1863642998109132)</td>\n",
       "      <td>(with, 1.2104507245157907)</td>\n",
       "    </tr>\n",
       "  </tbody>\n",
       "</table>\n",
       "</div>"
      ],
      "text/plain": [
       "                     business                        tech  \\\n",
       "0                   (of, 1.0)                  (and, 1.0)   \n",
       "1                  (the, 1.0)                  (the, 1.0)   \n",
       "2                   (to, 1.0)                   (to, 1.0)   \n",
       "3    (in, 1.0029717703891574)    (of, 1.0076628727455692)   \n",
       "4   (and, 1.0119404403719179)     (in, 1.019268418865877)   \n",
       "5  (said, 1.0802900181731276)  (that, 1.0270809586026706)   \n",
       "6   (for, 1.0964978283999811)    (it, 1.0310102367425602)   \n",
       "7  (that, 1.1229894438469572)    (is, 1.0389154162496737)   \n",
       "8    (it, 1.1263507915496622)   (for, 1.0428915646293129)   \n",
       "9    (is, 1.1365031630136802)    (be, 1.0877055804191054)   \n",
       "\n",
       "                    politics                       sport  \\\n",
       "0                  (in, 1.0)                  (the, 1.0)   \n",
       "1                 (the, 1.0)    (to, 1.0028860048891348)   \n",
       "2                  (to, 1.0)     (in, 1.014514042884254)   \n",
       "3  (and, 1.0072993024816115)     (of, 1.014514042884254)   \n",
       "4   (of, 1.0072993024816115)   (and, 1.0174423026633423)   \n",
       "5    (on, 1.052250690343878)   (for, 1.0904230060695785)   \n",
       "6   (is, 1.0560894666510436)   (but, 1.1290130033394477)   \n",
       "7  (for, 1.0599430359670337)    (on, 1.1422145151979834)   \n",
       "8   (be, 1.0676950127713514)    (at, 1.1623494236070395)   \n",
       "9  (said, 1.075507552508145)  (with, 1.1863642998109132)   \n",
       "\n",
       "                entertainment  \n",
       "0                  (the, 1.0)  \n",
       "1    (in, 1.0036563112031105)  \n",
       "2     (of, 1.007326040092073)  \n",
       "3   (and, 1.0110092855083694)  \n",
       "4     (to, 1.018416726786231)  \n",
       "5    (on, 1.0679506619085077)  \n",
       "6     (for, 1.07973861766055)  \n",
       "7   (was, 1.1837824774336294)  \n",
       "8   (has, 1.1970277041836501)  \n",
       "9  (with, 1.2104507245157907)  "
      ]
     },
     "execution_count": 27,
     "metadata": {},
     "output_type": "execute_result"
    }
   ],
   "source": [
    "#Ten presence word\n",
    "tf_idf_presence_word = pd.DataFrame.from_dict(frequency_presence)\n",
    "tf_idf_presence_word"
   ]
  },
  {
   "cell_type": "markdown",
   "id": "eb6f0b4d",
   "metadata": {},
   "source": [
    "Below is 10 words whose absence most strongly predicts that the article belongs to specific category for each five categories."
   ]
  },
  {
   "cell_type": "code",
   "execution_count": 28,
   "id": "07618ef6-36b7-4762-b746-77059ff3d1d5",
   "metadata": {},
   "outputs": [
    {
     "data": {
      "text/html": [
       "<div>\n",
       "<style scoped>\n",
       "    .dataframe tbody tr th:only-of-type {\n",
       "        vertical-align: middle;\n",
       "    }\n",
       "\n",
       "    .dataframe tbody tr th {\n",
       "        vertical-align: top;\n",
       "    }\n",
       "\n",
       "    .dataframe thead th {\n",
       "        text-align: right;\n",
       "    }\n",
       "</style>\n",
       "<table border=\"1\" class=\"dataframe\">\n",
       "  <thead>\n",
       "    <tr style=\"text-align: right;\">\n",
       "      <th></th>\n",
       "      <th>business</th>\n",
       "      <th>tech</th>\n",
       "      <th>politics</th>\n",
       "      <th>sport</th>\n",
       "      <th>entertainment</th>\n",
       "    </tr>\n",
       "  </thead>\n",
       "  <tbody>\n",
       "    <tr>\n",
       "      <th>0</th>\n",
       "      <td>(yukon, 6.126935749792416)</td>\n",
       "      <td>(yusuf, 5.875197323201151)</td>\n",
       "      <td>(yoga, 5.923623917106626)</td>\n",
       "      <td>(zambia, 6.156177599386914)</td>\n",
       "      <td>(zephaniah, 5.919980925828125)</td>\n",
       "    </tr>\n",
       "    <tr>\n",
       "      <th>1</th>\n",
       "      <td>(yulia, 6.126935749792416)</td>\n",
       "      <td>(zar, 5.875197323201151)</td>\n",
       "      <td>(yorker, 5.923623917106626)</td>\n",
       "      <td>(zara, 6.156177599386914)</td>\n",
       "      <td>(zero, 5.919980925828125)</td>\n",
       "    </tr>\n",
       "    <tr>\n",
       "      <th>2</th>\n",
       "      <td>(yungmin, 6.126935749792416)</td>\n",
       "      <td>(zdnet, 5.875197323201151)</td>\n",
       "      <td>(youngster, 5.923623917106626)</td>\n",
       "      <td>(zealousness, 6.156177599386914)</td>\n",
       "      <td>(zimbabwe, 5.919980925828125)</td>\n",
       "    </tr>\n",
       "    <tr>\n",
       "      <th>3</th>\n",
       "      <td>(yuri, 6.126935749792416)</td>\n",
       "      <td>(zed, 5.875197323201151)</td>\n",
       "      <td>(youngsters, 5.923623917106626)</td>\n",
       "      <td>(zheng, 6.156177599386914)</td>\n",
       "      <td>(zoe, 5.919980925828125)</td>\n",
       "    </tr>\n",
       "    <tr>\n",
       "      <th>4</th>\n",
       "      <td>(yury, 6.126935749792416)</td>\n",
       "      <td>(zens, 5.875197323201151)</td>\n",
       "      <td>(yourself, 5.923623917106626)</td>\n",
       "      <td>(zib, 6.156177599386914)</td>\n",
       "      <td>(zola, 5.919980925828125)</td>\n",
       "    </tr>\n",
       "    <tr>\n",
       "      <th>5</th>\n",
       "      <td>(zack, 6.126935749792416)</td>\n",
       "      <td>(zip, 5.875197323201151)</td>\n",
       "      <td>(youths, 5.923623917106626)</td>\n",
       "      <td>(ziers, 6.156177599386914)</td>\n",
       "      <td>(zombie, 5.919980925828125)</td>\n",
       "    </tr>\n",
       "    <tr>\n",
       "      <th>6</th>\n",
       "      <td>(zardari, 6.126935749792416)</td>\n",
       "      <td>(zodiac, 5.875197323201151)</td>\n",
       "      <td>(yushchenko, 5.923623917106626)</td>\n",
       "      <td>(zimbabwe, 6.156177599386914)</td>\n",
       "      <td>(zone, 5.919980925828125)</td>\n",
       "    </tr>\n",
       "    <tr>\n",
       "      <th>7</th>\n",
       "      <td>(zinc, 6.126935749792416)</td>\n",
       "      <td>(zombie, 5.875197323201151)</td>\n",
       "      <td>(yvette, 5.923623917106626)</td>\n",
       "      <td>(zoe, 6.156177599386914)</td>\n",
       "      <td>(zooropa, 5.919980925828125)</td>\n",
       "    </tr>\n",
       "    <tr>\n",
       "      <th>8</th>\n",
       "      <td>(zoellick, 6.126935749792416)</td>\n",
       "      <td>(zonealarm, 5.875197323201151)</td>\n",
       "      <td>(zambian, 5.923623917106626)</td>\n",
       "      <td>(zola, 6.156177599386914)</td>\n",
       "      <td>(zorro, 5.919980925828125)</td>\n",
       "    </tr>\n",
       "    <tr>\n",
       "      <th>9</th>\n",
       "      <td>(zones, 6.126935749792416)</td>\n",
       "      <td>(zones, 5.875197323201151)</td>\n",
       "      <td>(zone, 5.923623917106626)</td>\n",
       "      <td>(zuluaga, 6.156177599386914)</td>\n",
       "      <td>(zutons, 5.919980925828125)</td>\n",
       "    </tr>\n",
       "  </tbody>\n",
       "</table>\n",
       "</div>"
      ],
      "text/plain": [
       "                        business                            tech  \\\n",
       "0     (yukon, 6.126935749792416)      (yusuf, 5.875197323201151)   \n",
       "1     (yulia, 6.126935749792416)        (zar, 5.875197323201151)   \n",
       "2   (yungmin, 6.126935749792416)      (zdnet, 5.875197323201151)   \n",
       "3      (yuri, 6.126935749792416)        (zed, 5.875197323201151)   \n",
       "4      (yury, 6.126935749792416)       (zens, 5.875197323201151)   \n",
       "5      (zack, 6.126935749792416)        (zip, 5.875197323201151)   \n",
       "6   (zardari, 6.126935749792416)     (zodiac, 5.875197323201151)   \n",
       "7      (zinc, 6.126935749792416)     (zombie, 5.875197323201151)   \n",
       "8  (zoellick, 6.126935749792416)  (zonealarm, 5.875197323201151)   \n",
       "9     (zones, 6.126935749792416)      (zones, 5.875197323201151)   \n",
       "\n",
       "                          politics                             sport  \\\n",
       "0        (yoga, 5.923623917106626)       (zambia, 6.156177599386914)   \n",
       "1      (yorker, 5.923623917106626)         (zara, 6.156177599386914)   \n",
       "2   (youngster, 5.923623917106626)  (zealousness, 6.156177599386914)   \n",
       "3  (youngsters, 5.923623917106626)        (zheng, 6.156177599386914)   \n",
       "4    (yourself, 5.923623917106626)          (zib, 6.156177599386914)   \n",
       "5      (youths, 5.923623917106626)        (ziers, 6.156177599386914)   \n",
       "6  (yushchenko, 5.923623917106626)     (zimbabwe, 6.156177599386914)   \n",
       "7      (yvette, 5.923623917106626)          (zoe, 6.156177599386914)   \n",
       "8     (zambian, 5.923623917106626)         (zola, 6.156177599386914)   \n",
       "9        (zone, 5.923623917106626)      (zuluaga, 6.156177599386914)   \n",
       "\n",
       "                    entertainment  \n",
       "0  (zephaniah, 5.919980925828125)  \n",
       "1       (zero, 5.919980925828125)  \n",
       "2   (zimbabwe, 5.919980925828125)  \n",
       "3        (zoe, 5.919980925828125)  \n",
       "4       (zola, 5.919980925828125)  \n",
       "5     (zombie, 5.919980925828125)  \n",
       "6       (zone, 5.919980925828125)  \n",
       "7    (zooropa, 5.919980925828125)  \n",
       "8      (zorro, 5.919980925828125)  \n",
       "9     (zutons, 5.919980925828125)  "
      ]
     },
     "execution_count": 28,
     "metadata": {},
     "output_type": "execute_result"
    }
   ],
   "source": [
    "#Ten absence word\n",
    "tf_idf_absence_word = pd.DataFrame.from_dict(frequency_absence)\n",
    "tf_idf_absence_word"
   ]
  },
  {
   "cell_type": "markdown",
   "id": "d42e44cd",
   "metadata": {},
   "source": [
    "## 3.2 Analyzing effect of the non-stopwords"
   ]
  },
  {
   "cell_type": "markdown",
   "id": "391c7637",
   "metadata": {},
   "source": [
    "get_frequency_data_of_nonstopwords function calculates the frequencies of the words for each unique categories with removing stop words.\n",
    "\n",
    "frequency_nonstopwords is a list that keeps most common words appeared in each unique categories when we remove stop words."
   ]
  },
  {
   "cell_type": "code",
   "execution_count": 29,
   "id": "a7af7124",
   "metadata": {},
   "outputs": [],
   "source": [
    "def get_frequency_data_of_nonstopwords(x, stop_value=\"english\"):\n",
    "    vectorizer = CountVectorizer(ngram_range=(1,1), stop_words=stop_value)\n",
    "    matrix_vectorize = vectorizer.fit_transform(x)\n",
    "    words = list(vectorizer.get_feature_names_out())\n",
    "    tf_idf = TfidfTransformer()\n",
    "    words_tf_tdf = tf_idf.fit(matrix_vectorize).idf_\n",
    "    frequency = dict(zip(words, words_tf_tdf))\n",
    "    frequency = dict(sorted(frequency.items(), key=lambda item: item[1]))\n",
    "    return frequency  # frequency based calculation with TF-IDF"
   ]
  },
  {
   "cell_type": "code",
   "execution_count": 30,
   "id": "7ce54f26",
   "metadata": {},
   "outputs": [],
   "source": [
    "frequency_nonstopwords = defaultdict()\n",
    "for i in data.Category.unique():\n",
    "    frequency_class_nonstopwords = get_frequency_data_of_nonstopwords(data[data.Category == i].Text)\n",
    "    frequency_nonstopwords[i] = list(frequency_class_nonstopwords.items())[:10]"
   ]
  },
  {
   "cell_type": "code",
   "execution_count": 31,
   "id": "43077d35",
   "metadata": {},
   "outputs": [
    {
     "data": {
      "text/html": [
       "<div>\n",
       "<style scoped>\n",
       "    .dataframe tbody tr th:only-of-type {\n",
       "        vertical-align: middle;\n",
       "    }\n",
       "\n",
       "    .dataframe tbody tr th {\n",
       "        vertical-align: top;\n",
       "    }\n",
       "\n",
       "    .dataframe thead th {\n",
       "        text-align: right;\n",
       "    }\n",
       "</style>\n",
       "<table border=\"1\" class=\"dataframe\">\n",
       "  <thead>\n",
       "    <tr style=\"text-align: right;\">\n",
       "      <th></th>\n",
       "      <th>business</th>\n",
       "      <th>tech</th>\n",
       "      <th>politics</th>\n",
       "      <th>sport</th>\n",
       "      <th>entertainment</th>\n",
       "    </tr>\n",
       "  </thead>\n",
       "  <tbody>\n",
       "    <tr>\n",
       "      <th>0</th>\n",
       "      <td>(said, 1.0802900181731276)</td>\n",
       "      <td>(said, 1.1259267932393033)</td>\n",
       "      <td>(said, 1.075507552508145)</td>\n",
       "      <td>(said, 1.2546134003450202)</td>\n",
       "      <td>(said, 1.2950081125438537)</td>\n",
       "    </tr>\n",
       "    <tr>\n",
       "      <th>1</th>\n",
       "      <td>(year, 1.449444902224699)</td>\n",
       "      <td>(people, 1.29534494519735)</td>\n",
       "      <td>(mr, 1.2414926899824064)</td>\n",
       "      <td>(year, 1.6182161630922725)</td>\n",
       "      <td>(year, 1.4598365118902912)</td>\n",
       "    </tr>\n",
       "    <tr>\n",
       "      <th>2</th>\n",
       "      <td>(new, 1.7962024095060853)</td>\n",
       "      <td>(new, 1.4623990298605163)</td>\n",
       "      <td>(government, 1.3964152725882464)</td>\n",
       "      <td>(time, 1.67317504737303)</td>\n",
       "      <td>(film, 1.7004732206520181)</td>\n",
       "    </tr>\n",
       "    <tr>\n",
       "      <th>3</th>\n",
       "      <td>(market, 1.8572383000924546)</td>\n",
       "      <td>(use, 1.7085320993994246)</td>\n",
       "      <td>(people, 1.5798184952529422)</td>\n",
       "      <td>(win, 1.7194260650237858)</td>\n",
       "      <td>(new, 1.776846199436592)</td>\n",
       "    </tr>\n",
       "    <tr>\n",
       "      <th>4</th>\n",
       "      <td>(company, 1.8713230399741934)</td>\n",
       "      <td>(year, 1.7163142398414797)</td>\n",
       "      <td>(minister, 1.6469577980905707)</td>\n",
       "      <td>(game, 1.8058996630276125)</td>\n",
       "      <td>(best, 1.949689012276003)</td>\n",
       "    </tr>\n",
       "    <tr>\n",
       "      <th>5</th>\n",
       "      <td>(firm, 1.9148081519139324)</td>\n",
       "      <td>(technology, 1.7643234590278403)</td>\n",
       "      <td>(labour, 1.6895174125093666)</td>\n",
       "      <td>(world, 1.9440500015084297)</td>\n",
       "      <td>(star, 2.0180082562534802)</td>\n",
       "    </tr>\n",
       "    <tr>\n",
       "      <th>6</th>\n",
       "      <td>(mr, 1.9448856071512104)</td>\n",
       "      <td>(make, 1.7725539581643557)</td>\n",
       "      <td>(election, 1.7415737744654196)</td>\n",
       "      <td>(just, 1.9741274567457077)</td>\n",
       "      <td>(including, 2.113318436057805)</td>\n",
       "    </tr>\n",
       "    <tr>\n",
       "      <th>7</th>\n",
       "      <td>(chief, 2.0751508019891114)</td>\n",
       "      <td>(way, 1.7725539581643557)</td>\n",
       "      <td>(new, 1.7647408337469541)</td>\n",
       "      <td>(old, 2.0453037352136025)</td>\n",
       "      <td>(time, 2.113318436057805)</td>\n",
       "    </tr>\n",
       "    <tr>\n",
       "      <th>8</th>\n",
       "      <td>(2004, 2.092695111640021)</td>\n",
       "      <td>(mr, 1.7808527609790508)</td>\n",
       "      <td>(party, 1.8045867422941537)</td>\n",
       "      <td>(won, 2.053534234350118)</td>\n",
       "      <td>(uk, 2.1244917366559304)</td>\n",
       "    </tr>\n",
       "    <tr>\n",
       "      <th>9</th>\n",
       "      <td>(years, 2.1105527290400277)</td>\n",
       "      <td>(like, 1.8061705689633407)</td>\n",
       "      <td>(told, 1.8127500529333147)</td>\n",
       "      <td>(team, 2.0702012868353297)</td>\n",
       "      <td>(years, 2.1357912919098636)</td>\n",
       "    </tr>\n",
       "  </tbody>\n",
       "</table>\n",
       "</div>"
      ],
      "text/plain": [
       "                        business                              tech  \\\n",
       "0     (said, 1.0802900181731276)        (said, 1.1259267932393033)   \n",
       "1      (year, 1.449444902224699)        (people, 1.29534494519735)   \n",
       "2      (new, 1.7962024095060853)         (new, 1.4623990298605163)   \n",
       "3   (market, 1.8572383000924546)         (use, 1.7085320993994246)   \n",
       "4  (company, 1.8713230399741934)        (year, 1.7163142398414797)   \n",
       "5     (firm, 1.9148081519139324)  (technology, 1.7643234590278403)   \n",
       "6       (mr, 1.9448856071512104)        (make, 1.7725539581643557)   \n",
       "7    (chief, 2.0751508019891114)         (way, 1.7725539581643557)   \n",
       "8      (2004, 2.092695111640021)          (mr, 1.7808527609790508)   \n",
       "9    (years, 2.1105527290400277)        (like, 1.8061705689633407)   \n",
       "\n",
       "                           politics                        sport  \\\n",
       "0         (said, 1.075507552508145)   (said, 1.2546134003450202)   \n",
       "1          (mr, 1.2414926899824064)   (year, 1.6182161630922725)   \n",
       "2  (government, 1.3964152725882464)     (time, 1.67317504737303)   \n",
       "3      (people, 1.5798184952529422)    (win, 1.7194260650237858)   \n",
       "4    (minister, 1.6469577980905707)   (game, 1.8058996630276125)   \n",
       "5      (labour, 1.6895174125093666)  (world, 1.9440500015084297)   \n",
       "6    (election, 1.7415737744654196)   (just, 1.9741274567457077)   \n",
       "7         (new, 1.7647408337469541)    (old, 2.0453037352136025)   \n",
       "8       (party, 1.8045867422941537)     (won, 2.053534234350118)   \n",
       "9        (told, 1.8127500529333147)   (team, 2.0702012868353297)   \n",
       "\n",
       "                    entertainment  \n",
       "0      (said, 1.2950081125438537)  \n",
       "1      (year, 1.4598365118902912)  \n",
       "2      (film, 1.7004732206520181)  \n",
       "3        (new, 1.776846199436592)  \n",
       "4       (best, 1.949689012276003)  \n",
       "5      (star, 2.0180082562534802)  \n",
       "6  (including, 2.113318436057805)  \n",
       "7       (time, 2.113318436057805)  \n",
       "8        (uk, 2.1244917366559304)  \n",
       "9     (years, 2.1357912919098636)  "
      ]
     },
     "execution_count": 31,
     "metadata": {},
     "output_type": "execute_result"
    }
   ],
   "source": [
    "tf_idf_nonstopwords = pd.DataFrame.from_dict(frequency_nonstopwords)\n",
    "tf_idf_nonstopwords"
   ]
  },
  {
   "cell_type": "markdown",
   "id": "87fbb93b-b087-4849-a7f4-fa7865d1b368",
   "metadata": {},
   "source": [
    "### 3.2.1 Analyzing effect of the stopwords:"
   ]
  },
  {
   "cell_type": "markdown",
   "id": "aa2536fe",
   "metadata": {},
   "source": [
    "Removing stop words makes really sense because it makes our prediction more meaningful. If you analyze the table without removing stop words(\"tf_idf_presence_word\"), you can see that almost all of the outputs are consisted of stop words and this makes almost impossible to predict the category. If you analyze the table with removing the stop words(\"tf_idf_nonstopwords\"), you can see that almost all of the outputs are different for different catagories and they are meaningful. By removing stop words, every people can predict the category just for looking to the data."
   ]
  },
  {
   "cell_type": "markdown",
   "id": "a85cbb0f-9d6f-445d-8f94-30b4e5c79de7",
   "metadata": {},
   "source": [
    "# Part 4 : Conclusion \n",
    "\n"
   ]
  },
  {
   "cell_type": "markdown",
   "id": "152da247-1347-4249-b5e0-5c26711d548c",
   "metadata": {},
   "source": [
    "## 4.1 Analysis of accuracy :"
   ]
  },
  {
   "cell_type": "markdown",
   "id": "3259b5bf-b90e-41f4-9b00-28e81642a97b",
   "metadata": {},
   "source": [
    "As you can see from the tables in part2, accuracy values are as fallows:\n",
    "\n",
    "Accuracy of unigram model without removing stop words : 0.9731543624161074 \n",
    "\n",
    "Accuracy of unigram model with removing stop words : 0.9765100671 140939\n",
    "\n",
    "Accuracy of bigram model without removing stop words : 0.9463087248322147\n",
    "\n",
    "Accuracy of bigram model with removing stop words : 0.9463087248322147\n",
    "\n",
    "By analyzing these values, we can say that unigram models have better accuracy values than bigram models. Also we can say that removing stop words increased the accuracy value for unigram model but it didn't make any effect on bigram models.\n",
    "\n",
    "In addition, because the bigram model takes words in pairs, it comes up with a slower algorithm compared to the unigram model."
   ]
  },
  {
   "cell_type": "markdown",
   "id": "5e4294b9-206e-4f6b-9491-6403e43034c5",
   "metadata": {},
   "source": [
    "## 4.2 Algorithm Speed Test"
   ]
  },
  {
   "cell_type": "code",
   "execution_count": 35,
   "id": "9826a46b-c63f-42ef-b1bf-5bb25d548390",
   "metadata": {},
   "outputs": [
    {
     "name": "stdout",
     "output_type": "stream",
     "text": [
      "Model Fit Time : 25.000730991363525\n",
      "Model Predict Time:  0.05440831184387207\n"
     ]
    }
   ],
   "source": [
    "X_train_unigram_with_stop_words = prepare_X_train(X_train,(1,1),stop_words= None)\n",
    "\n",
    "\n",
    "model = GaussianNaiveBayes(n_gram=\"unigram\")\n",
    "\n",
    "start_time = time.time()\n",
    "\n",
    "model.fit(X_train_biagram_with_stop_words,y_train)\n",
    "\n",
    "start2_time = time.time()\n",
    "\n",
    "x = start2_time - start_time\n",
    "\n",
    "print(\"Model Fit Time :\", x)\n",
    "\n",
    "start_time= time.time()\n",
    "\n",
    "y_pred = model.predict(X_test)\n",
    "\n",
    "start2_time = time.time()\n",
    "\n",
    "x = start2_time - start_time\n",
    "\n",
    "print(\"Model Predict Time: \" , x)\n"
   ]
  },
  {
   "cell_type": "markdown",
   "id": "13b70d6f-1a76-4272-8b8b-068a2261022c",
   "metadata": {},
   "source": [
    "# 5. References"
   ]
  },
  {
   "cell_type": "markdown",
   "id": "18782e3f-a876-4615-9d66-61ae999be662",
   "metadata": {},
   "source": [
    "https://web.cs.hacettepe.edu.tr/~abc/teaching/bbm406/index.php\n",
    "\n",
    "https://stackoverflow.com\n",
    "\n",
    "https://theflyingmantis.medium.com/text-classification-in-nlp-naive-bayes-a606bf419f8c"
   ]
  }
 ],
 "metadata": {
  "kernelspec": {
   "display_name": "Python 3 (ipykernel)",
   "language": "python",
   "name": "python3"
  },
  "language_info": {
   "codemirror_mode": {
    "name": "ipython",
    "version": 3
   },
   "file_extension": ".py",
   "mimetype": "text/x-python",
   "name": "python",
   "nbconvert_exporter": "python",
   "pygments_lexer": "ipython3",
   "version": "3.9.13"
  }
 },
 "nbformat": 4,
 "nbformat_minor": 5
}
